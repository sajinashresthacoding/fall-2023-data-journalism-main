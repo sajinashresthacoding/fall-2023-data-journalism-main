{
 "cells": [
  {
   "cell_type": "code",
   "execution_count": 1,
   "id": "ef4fb785",
   "metadata": {},
   "outputs": [
    {
     "name": "stdout",
     "output_type": "stream",
     "text": [
      "Collecting git+https://github.com/sajinashresthacoding/testFunc.git\n",
      "  Cloning https://github.com/sajinashresthacoding/testFunc.git to /private/var/folders/s2/yhgvwy5j2nj1j2xfcsx5gwp00000gn/T/pip-req-build-r_bhc2pq\n",
      "  Running command git clone --filter=blob:none --quiet https://github.com/sajinashresthacoding/testFunc.git /private/var/folders/s2/yhgvwy5j2nj1j2xfcsx5gwp00000gn/T/pip-req-build-r_bhc2pq\n",
      "  Resolved https://github.com/sajinashresthacoding/testFunc.git to commit caa181318b66f539f939dcdf0947146024c87697\n",
      "  Preparing metadata (setup.py) ... \u001b[?25ldone\n",
      "\u001b[?25hBuilding wheels for collected packages: testFunc\n",
      "  Building wheel for testFunc (setup.py) ... \u001b[?25ldone\n",
      "\u001b[?25h  Created wheel for testFunc: filename=testFunc-0.0.4-py3-none-any.whl size=2644 sha256=6654fe7233e8a165e3066d88a69ada5f59f489dc5dfbcf59be0c69c0d3096c64\n",
      "  Stored in directory: /private/var/folders/s2/yhgvwy5j2nj1j2xfcsx5gwp00000gn/T/pip-ephem-wheel-cache-rvuvlgyu/wheels/87/12/99/e46b529abcf5937e9a051c05314b7c8a03eb47a287b17cc2f8\n",
      "Successfully built testFunc\n",
      "Installing collected packages: testFunc\n",
      "  Attempting uninstall: testFunc\n",
      "    Found existing installation: testFunc 0.0.3\n",
      "    Uninstalling testFunc-0.0.3:\n",
      "      Successfully uninstalled testFunc-0.0.3\n",
      "Successfully installed testFunc-0.0.4\n",
      "Note: you may need to restart the kernel to use updated packages.\n"
     ]
    }
   ],
   "source": [
    "pip install git+https://github.com/sajinashresthacoding/testFunc.git"
   ]
  },
  {
   "cell_type": "code",
   "execution_count": 2,
   "id": "9cf5a4a4",
   "metadata": {},
   "outputs": [],
   "source": [
    "from mathFunctions import addNumbers"
   ]
  },
  {
   "cell_type": "code",
   "execution_count": 3,
   "id": "cf75337f",
   "metadata": {},
   "outputs": [
    {
     "data": {
      "text/plain": [
       "750"
      ]
     },
     "execution_count": 3,
     "metadata": {},
     "output_type": "execute_result"
    }
   ],
   "source": [
    "addNumbers(150,600)"
   ]
  },
  {
   "cell_type": "code",
   "execution_count": 4,
   "id": "bb7f4f92",
   "metadata": {},
   "outputs": [],
   "source": [
    "from mathFunctions import *"
   ]
  },
  {
   "cell_type": "code",
   "execution_count": 6,
   "id": "fe28bca1",
   "metadata": {},
   "outputs": [
    {
     "data": {
      "text/plain": [
       "['demo-docs/adolph-coors-2015.pdf',\n",
       " 'demo-docs/adolph-coors-2014.pdf',\n",
       " 'demo-docs/adolph-coors-2013.pdf']"
      ]
     },
     "execution_count": 6,
     "metadata": {},
     "output_type": "execute_result"
    }
   ],
   "source": [
    "gatherFiles(\"demo-docs/*.pdf\")"
   ]
  },
  {
   "cell_type": "code",
   "execution_count": null,
   "id": "037d7fe6",
   "metadata": {},
   "outputs": [],
   "source": []
  }
 ],
 "metadata": {
  "kernelspec": {
   "display_name": "Python 3 (ipykernel)",
   "language": "python",
   "name": "python3"
  },
  "language_info": {
   "codemirror_mode": {
    "name": "ipython",
    "version": 3
   },
   "file_extension": ".py",
   "mimetype": "text/x-python",
   "name": "python",
   "nbconvert_exporter": "python",
   "pygments_lexer": "ipython3",
   "version": "3.9.13"
  }
 },
 "nbformat": 4,
 "nbformat_minor": 5
}
