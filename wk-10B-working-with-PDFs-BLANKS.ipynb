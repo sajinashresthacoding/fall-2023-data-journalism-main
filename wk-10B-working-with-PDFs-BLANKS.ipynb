{
 "cells": [
  {
   "cell_type": "markdown",
   "metadata": {
    "id": "9FUirTb9HvpN"
   },
   "source": [
    "# Tables scattered in PDFs\n",
    "\n",
    "As it is, PDFs are notoriously obnoxious. They are designed so people can't change them easily.\n",
    "\n",
    "PDFs that hold tables are pretty much the worst.\n",
    "\n",
    "We want to <a href=\"https://drive.google.com/file/d/1aeRaTL1G3rCfAiQIGo3ZlWc1YnE4pr8H/view?usp=share_link\">scrape data from digital PDFs</a>.\n",
    "\n",
    "You might have worked with the <a href=\"https://tabula.technology/\">Tabula GUI</a> to extract tables from PDFs. But there's a lot of manual work involved. \n",
    "\n",
    "To automate the process, we'll use the **Tabula Python Library**.\n",
    "\n",
    "### There's NO satisfaction guarantee, but at least it's a way to try to tackle PDFs with tables."
   ]
  },
  {
   "cell_type": "markdown",
   "metadata": {
    "id": "Lxf2wkM4IGEV"
   },
   "source": [
    "## THE SETUP"
   ]
  },
  {
   "cell_type": "code",
   "execution_count": null,
   "metadata": {
    "id": "MFmiQ5H3HlEQ"
   },
   "outputs": [],
   "source": [
    "## !pip install tabula-py.\n",
    "## it is not part of the standard Colab library"
   ]
  },
  {
   "cell_type": "code",
   "execution_count": 1,
   "metadata": {
    "id": "wksiWLl8EEQk"
   },
   "outputs": [
    {
     "name": "stdout",
     "output_type": "stream",
     "text": [
      "Note: you may need to restart the kernel to use updated packages.\n"
     ]
    }
   ],
   "source": [
    "pip install -q tabula-py"
   ]
  },
  {
   "cell_type": "code",
   "execution_count": 2,
   "metadata": {
    "id": "6CBHdtwFrEwE",
    "scrolled": true
   },
   "outputs": [
    {
     "name": "stdout",
     "output_type": "stream",
     "text": [
      "Collecting install-jdk\n",
      "  Downloading install_jdk-1.1.0-py3-none-any.whl (15 kB)\n",
      "Installing collected packages: install-jdk\n",
      "Successfully installed install-jdk-1.1.0\n",
      "Note: you may need to restart the kernel to use updated packages.\n"
     ]
    }
   ],
   "source": [
    "pip install install-jdk"
   ]
  },
  {
   "cell_type": "markdown",
   "metadata": {},
   "source": [
    "for people getting jdk error:\n",
    "    https://www.oracle.com/java/technologies/downloads/#jdk21-mac"
   ]
  },
  {
   "cell_type": "code",
   "execution_count": 4,
   "metadata": {
    "id": "hZyCzxEMH_Rn"
   },
   "outputs": [
    {
     "name": "stdout",
     "output_type": "stream",
     "text": [
      "Python version:\n",
      "    3.9.13 (main, Aug 25 2022, 18:29:29) \n",
      "[Clang 12.0.0 ]\n",
      "Java version:\n",
      "    java version \"21.0.1\" 2023-10-17 LTS\n",
      "Java(TM) SE Runtime Environment (build 21.0.1+12-LTS-29)\n",
      "Java HotSpot(TM) 64-Bit Server VM (build 21.0.1+12-LTS-29, mixed mode, sharing)\n",
      "tabula-py version: 2.8.2\n",
      "platform: macOS-10.16-x86_64-i386-64bit\n",
      "uname:\n",
      "    uname_result(system='Darwin', node='Sajinas-MacBook-Pro.local', release='22.3.0', version='Darwin Kernel Version 22.3.0: Mon Jan 30 20:38:37 PST 2023; root:xnu-8792.81.3~2/RELEASE_ARM64_T6000', machine='x86_64')\n",
      "linux_distribution: ('Darwin', '22.3.0', '')\n",
      "mac_ver: ('10.16', ('', '', ''), 'x86_64')\n"
     ]
    }
   ],
   "source": [
    "## import tabula\n",
    "## check it's versioning\n",
    "import tabula\n",
    "tabula.environment_info() ## not need always\n"
   ]
  },
  {
   "cell_type": "code",
   "execution_count": 5,
   "metadata": {
    "id": "9M3P2qPBH_YJ"
   },
   "outputs": [],
   "source": [
    "## import some libraries we need\n",
    "import pandas as pd ## pandas to work with data\n"
   ]
  },
  {
   "cell_type": "code",
   "execution_count": 6,
   "metadata": {
    "id": "G0F6thFoH_CV"
   },
   "outputs": [
    {
     "ename": "FileNotFoundError",
     "evalue": "[Errno 2] JVM DLL not found: /Library/Java/JavaVirtualMachines/jdk-21.jdk/Contents/Home/lib/libjli.dylib\n",
     "output_type": "error",
     "traceback": [
      "\u001b[0;31m---------------------------------------------------------------------------\u001b[0m",
      "\u001b[0;31mFileNotFoundError\u001b[0m                         Traceback (most recent call last)",
      "\u001b[0;32m/var/folders/s2/yhgvwy5j2nj1j2xfcsx5gwp00000gn/T/ipykernel_9451/3671522334.py\u001b[0m in \u001b[0;36m<module>\u001b[0;34m\u001b[0m\n\u001b[1;32m      1\u001b[0m \u001b[0;31m## Let's pull in our first pdf with a single page, single table\u001b[0m\u001b[0;34m\u001b[0m\u001b[0;34m\u001b[0m\u001b[0m\n\u001b[1;32m      2\u001b[0m \u001b[0mpdf1\u001b[0m \u001b[0;34m=\u001b[0m \u001b[0;34m\"pdf_samples/mockup1.pdf\"\u001b[0m\u001b[0;34m\u001b[0m\u001b[0;34m\u001b[0m\u001b[0m\n\u001b[0;32m----> 3\u001b[0;31m \u001b[0mtable1\u001b[0m \u001b[0;34m=\u001b[0m \u001b[0mtabula\u001b[0m\u001b[0;34m.\u001b[0m\u001b[0mread_pdf\u001b[0m\u001b[0;34m(\u001b[0m\u001b[0mpdf1\u001b[0m\u001b[0;34m)\u001b[0m\u001b[0;34m\u001b[0m\u001b[0;34m\u001b[0m\u001b[0m\n\u001b[0m\u001b[1;32m      4\u001b[0m \u001b[0mtable1\u001b[0m\u001b[0;34m\u001b[0m\u001b[0;34m\u001b[0m\u001b[0m\n",
      "\u001b[0;32m~/opt/anaconda3/lib/python3.9/site-packages/tabula/io.py\u001b[0m in \u001b[0;36mread_pdf\u001b[0;34m(input_path, output_format, encoding, java_options, pandas_options, multiple_tables, user_agent, use_raw_url, pages, guess, area, relative_area, lattice, stream, password, silent, columns, relative_columns, format, batch, output_path, force_subprocess, options)\u001b[0m\n\u001b[1;32m    405\u001b[0m \u001b[0;34m\u001b[0m\u001b[0m\n\u001b[1;32m    406\u001b[0m     \u001b[0;32mtry\u001b[0m\u001b[0;34m:\u001b[0m\u001b[0;34m\u001b[0m\u001b[0;34m\u001b[0m\u001b[0m\n\u001b[0;32m--> 407\u001b[0;31m         output = _run(\n\u001b[0m\u001b[1;32m    408\u001b[0m             \u001b[0mjava_options\u001b[0m\u001b[0;34m,\u001b[0m\u001b[0;34m\u001b[0m\u001b[0;34m\u001b[0m\u001b[0m\n\u001b[1;32m    409\u001b[0m             \u001b[0mtabula_options\u001b[0m\u001b[0;34m,\u001b[0m\u001b[0;34m\u001b[0m\u001b[0;34m\u001b[0m\u001b[0m\n",
      "\u001b[0;32m~/opt/anaconda3/lib/python3.9/site-packages/tabula/io.py\u001b[0m in \u001b[0;36m_run\u001b[0;34m(java_options, options, path, encoding, force_subprocess)\u001b[0m\n\u001b[1;32m     70\u001b[0m \u001b[0;34m\u001b[0m\u001b[0m\n\u001b[1;32m     71\u001b[0m     \u001b[0;32mif\u001b[0m \u001b[0;32mnot\u001b[0m \u001b[0m_tabula_vm\u001b[0m\u001b[0;34m:\u001b[0m\u001b[0;34m\u001b[0m\u001b[0;34m\u001b[0m\u001b[0m\n\u001b[0;32m---> 72\u001b[0;31m         \u001b[0m_tabula_vm\u001b[0m \u001b[0;34m=\u001b[0m \u001b[0mTabulaVm\u001b[0m\u001b[0;34m(\u001b[0m\u001b[0mjava_options\u001b[0m\u001b[0;34m=\u001b[0m\u001b[0mjava_options\u001b[0m\u001b[0;34m,\u001b[0m \u001b[0msilent\u001b[0m\u001b[0;34m=\u001b[0m\u001b[0moptions\u001b[0m\u001b[0;34m.\u001b[0m\u001b[0msilent\u001b[0m\u001b[0;34m)\u001b[0m\u001b[0;34m\u001b[0m\u001b[0;34m\u001b[0m\u001b[0m\n\u001b[0m\u001b[1;32m     73\u001b[0m         \u001b[0;32mif\u001b[0m \u001b[0m_tabula_vm\u001b[0m \u001b[0;32mand\u001b[0m \u001b[0;32mnot\u001b[0m \u001b[0m_tabula_vm\u001b[0m\u001b[0;34m.\u001b[0m\u001b[0mtabula\u001b[0m\u001b[0;34m:\u001b[0m\u001b[0;34m\u001b[0m\u001b[0;34m\u001b[0m\u001b[0m\n\u001b[1;32m     74\u001b[0m             _tabula_vm = SubprocessTabula(\n",
      "\u001b[0;32m~/opt/anaconda3/lib/python3.9/site-packages/tabula/backend.py\u001b[0m in \u001b[0;36m__init__\u001b[0;34m(self, java_options, silent)\u001b[0m\n\u001b[1;32m     42\u001b[0m                 )\n\u001b[1;32m     43\u001b[0m \u001b[0;34m\u001b[0m\u001b[0m\n\u001b[0;32m---> 44\u001b[0;31m             \u001b[0mjpype\u001b[0m\u001b[0;34m.\u001b[0m\u001b[0mstartJVM\u001b[0m\u001b[0;34m(\u001b[0m\u001b[0;34m*\u001b[0m\u001b[0mjava_options\u001b[0m\u001b[0;34m,\u001b[0m \u001b[0mconvertStrings\u001b[0m\u001b[0;34m=\u001b[0m\u001b[0;32mFalse\u001b[0m\u001b[0;34m)\u001b[0m\u001b[0;34m\u001b[0m\u001b[0;34m\u001b[0m\u001b[0m\n\u001b[0m\u001b[1;32m     45\u001b[0m \u001b[0;34m\u001b[0m\u001b[0m\n\u001b[1;32m     46\u001b[0m         \u001b[0;32mtry\u001b[0m\u001b[0;34m:\u001b[0m\u001b[0;34m\u001b[0m\u001b[0;34m\u001b[0m\u001b[0m\n",
      "\u001b[0;32m~/opt/anaconda3/lib/python3.9/site-packages/jpype/_core.py\u001b[0m in \u001b[0;36mstartJVM\u001b[0;34m(*args, **kwargs)\u001b[0m\n\u001b[1;32m    222\u001b[0m         \u001b[0mprior\u001b[0m \u001b[0;34m=\u001b[0m \u001b[0;34m[\u001b[0m\u001b[0mlocale\u001b[0m\u001b[0;34m.\u001b[0m\u001b[0mgetlocale\u001b[0m\u001b[0;34m(\u001b[0m\u001b[0mi\u001b[0m\u001b[0;34m)\u001b[0m \u001b[0;32mfor\u001b[0m \u001b[0mi\u001b[0m \u001b[0;32min\u001b[0m \u001b[0mcategories\u001b[0m\u001b[0;34m]\u001b[0m\u001b[0;34m\u001b[0m\u001b[0;34m\u001b[0m\u001b[0m\n\u001b[1;32m    223\u001b[0m         \u001b[0;31m# Start the JVM\u001b[0m\u001b[0;34m\u001b[0m\u001b[0;34m\u001b[0m\u001b[0m\n\u001b[0;32m--> 224\u001b[0;31m         _jpype.startup(jvmpath, tuple(args),\n\u001b[0m\u001b[1;32m    225\u001b[0m                        ignoreUnrecognized, convertStrings, interrupt)\n\u001b[1;32m    226\u001b[0m         \u001b[0;31m# Collect required resources for operation\u001b[0m\u001b[0;34m\u001b[0m\u001b[0;34m\u001b[0m\u001b[0m\n",
      "\u001b[0;31mFileNotFoundError\u001b[0m: [Errno 2] JVM DLL not found: /Library/Java/JavaVirtualMachines/jdk-21.jdk/Contents/Home/lib/libjli.dylib\n"
     ]
    }
   ],
   "source": [
    "## Let's pull in our first pdf with a single page, single table\n",
    "pdf1 = \"pdf_samples/mockup1.pdf\"\n",
    "table1 = tabula.read_pdf(pdf1)\n",
    "table1"
   ]
  },
  {
   "cell_type": "code",
   "execution_count": null,
   "metadata": {
    "id": "P6yphHDEr2wg"
   },
   "outputs": [],
   "source": [
    "## WHAT TYPE OF DATA?\n"
   ]
  },
  {
   "cell_type": "code",
   "execution_count": null,
   "metadata": {
    "id": "yciinnKnsCzQ"
   },
   "outputs": [],
   "source": [
    "## let's get the first table\n"
   ]
  },
  {
   "cell_type": "code",
   "execution_count": null,
   "metadata": {
    "id": "_1dTc_sDEEQm"
   },
   "outputs": [],
   "source": [
    "## look at it\n"
   ]
  },
  {
   "cell_type": "code",
   "execution_count": null,
   "metadata": {
    "id": "hUmsX-X5tbM7"
   },
   "outputs": [],
   "source": [
    "## WHT TYPE OF DATA?\n"
   ]
  },
  {
   "cell_type": "code",
   "execution_count": null,
   "metadata": {
    "id": "18Wb3xT3tbQl"
   },
   "outputs": [],
   "source": [
    "## Export and download as CSV file\n"
   ]
  },
  {
   "cell_type": "markdown",
   "metadata": {
    "id": "Zq6ttpEMvnWa"
   },
   "source": [
    "# Multiple pages/ Multiple tables\n"
   ]
  },
  {
   "cell_type": "code",
   "execution_count": null,
   "metadata": {
    "id": "b6dSksJytbYb"
   },
   "outputs": [],
   "source": [
    "## let's pull in our a file with multiple pages and tables\n",
    "## we target the table on the fisrt and second page.\n"
   ]
  },
  {
   "cell_type": "code",
   "execution_count": null,
   "metadata": {
    "id": "FpWwgfQitbeC"
   },
   "outputs": [],
   "source": [
    "## let's get the first table\n"
   ]
  },
  {
   "cell_type": "code",
   "execution_count": null,
   "metadata": {
    "id": "3MuAEix0tbg4"
   },
   "outputs": [],
   "source": [
    "## we are pulling in a range of pages\n",
    "## IMPORTANT: There are no spaces in \"1-2,4\"\n"
   ]
  },
  {
   "cell_type": "markdown",
   "metadata": {
    "id": "OiC2PZonEEQn"
   },
   "source": [
    "## Homework for week 9\n",
    "\n",
    "- Multi-page, Multi-table all zipped together\n",
    "- Look at week 9"
   ]
  },
  {
   "cell_type": "markdown",
   "metadata": {
    "id": "VDwte6-0EEQn"
   },
   "source": [
    "## Foundational Multi-page, Multi-table\n",
    "\n",
    "### Campaign contribution demo"
   ]
  },
  {
   "cell_type": "code",
   "execution_count": null,
   "metadata": {
    "id": "oDXTNCYz3Meo"
   },
   "outputs": [],
   "source": [
    "## path to our \"campaign_contribs.pdf\" PDF\n"
   ]
  },
  {
   "cell_type": "code",
   "execution_count": null,
   "metadata": {
    "id": "1e8-1K9d3Rv2"
   },
   "outputs": [],
   "source": [
    "## get all the pages\n"
   ]
  },
  {
   "cell_type": "code",
   "execution_count": null,
   "metadata": {
    "id": "DHVO2hJk6FWA"
   },
   "outputs": [],
   "source": [
    "## confirm we have the correct number of tables. should have 4 tables\n"
   ]
  },
  {
   "cell_type": "code",
   "execution_count": null,
   "metadata": {
    "id": "8AgXtOZY3SBc"
   },
   "outputs": [],
   "source": [
    "## let's get the 3rd table\n"
   ]
  },
  {
   "cell_type": "code",
   "execution_count": null,
   "metadata": {
    "id": "p5-wk7y_3SUX"
   },
   "outputs": [],
   "source": [
    "## create a function to download each table as CSV\n"
   ]
  },
  {
   "cell_type": "code",
   "execution_count": null,
   "metadata": {
    "id": "6S-mWu_y3SQr"
   },
   "outputs": [],
   "source": [
    "## call the function\n"
   ]
  },
  {
   "cell_type": "code",
   "execution_count": null,
   "metadata": {
    "id": "bJGfauf83SHi"
   },
   "outputs": [],
   "source": [
    "## write function to combine tabula tables into a single csv\n"
   ]
  },
  {
   "cell_type": "code",
   "execution_count": null,
   "metadata": {
    "id": "iz5nAFFQ3R98"
   },
   "outputs": [],
   "source": [
    "## call the function\n"
   ]
  },
  {
   "cell_type": "markdown",
   "metadata": {
    "id": "9eXkX_-5EEQp"
   },
   "source": [
    "## Reality Check"
   ]
  },
  {
   "cell_type": "code",
   "execution_count": null,
   "metadata": {
    "id": "IaIrkyaF3RsB"
   },
   "outputs": [],
   "source": [
    "## import who_covid.pdf\n"
   ]
  },
  {
   "cell_type": "code",
   "execution_count": null,
   "metadata": {
    "id": "vggux_N7BWnK"
   },
   "outputs": [],
   "source": [
    "##look at it\n"
   ]
  },
  {
   "cell_type": "code",
   "execution_count": null,
   "metadata": {
    "id": "PUpxCYpC_ZsK"
   },
   "outputs": [],
   "source": [
    "## table on page 3\n",
    "\n"
   ]
  },
  {
   "cell_type": "code",
   "execution_count": null,
   "metadata": {
    "id": "gKgCjv3JAMCv"
   },
   "outputs": [],
   "source": [
    "##table on page 4\n"
   ]
  },
  {
   "cell_type": "markdown",
   "metadata": {
    "id": "LYrUcnZ29uGJ"
   },
   "source": [
    "# No Satisfaction Guarantee\n",
    "\n",
    "I know I said that at the beginning. What did I mean by that?\n",
    "\n",
    "The results really depend on the PDF and how it was put together.\n",
    "\n",
    "Here are some issues you will encounter:\n",
    "\n",
    "1. The Tables have too many sub-columns and sub-rows and groupings (bad_table.pdf)\n",
    "\n",
    "2. Multiple different tables on the same page that are too close together will be processed as a single table and be an utter mess.\n",
    "\n",
    "3. Documents and reports that have been scanned and are really images of PDFs can't be processed with Tabula or PyPDF2. Tables on these types of scans require advanced Python and graphical analysis skills beyond the scope of this course."
   ]
  },
  {
   "cell_type": "code",
   "execution_count": null,
   "metadata": {
    "id": "VXnrEkXw9vhA"
   },
   "outputs": [],
   "source": []
  }
 ],
 "metadata": {
  "colab": {
   "collapsed_sections": [],
   "name": "week-9-working-with-PDFs_BLANKS.ipynb",
   "provenance": [
    {
     "file_id": "1G-JATnnWYmbUDisejfkNlWNndJyDunak",
     "timestamp": 1629243241662
    },
    {
     "file_id": "1v0jsZjHBn9_KTLJBKwBX7GdOzIBmqjeJ",
     "timestamp": 1621421029732
    }
   ]
  },
  "kernelspec": {
   "display_name": "Python 3 (ipykernel)",
   "language": "python",
   "name": "python3"
  },
  "language_info": {
   "codemirror_mode": {
    "name": "ipython",
    "version": 3
   },
   "file_extension": ".py",
   "mimetype": "text/x-python",
   "name": "python",
   "nbconvert_exporter": "python",
   "pygments_lexer": "ipython3",
   "version": "3.9.13"
  }
 },
 "nbformat": 4,
 "nbformat_minor": 1
}
